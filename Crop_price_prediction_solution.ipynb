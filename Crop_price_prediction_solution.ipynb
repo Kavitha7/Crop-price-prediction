{
 "cells": [
  {
   "cell_type": "code",
   "execution_count": 86,
   "metadata": {},
   "outputs": [],
   "source": [
    "# Import following libraries.\n",
    "\n",
    "import numpy as np\n",
    "import pandas as pd\n",
    "from datetime import datetime\n",
    "import matplotlib.pyplot as plt"
   ]
  },
  {
   "cell_type": "code",
   "execution_count": 87,
   "metadata": {},
   "outputs": [
    {
     "data": {
      "text/plain": [
       "[      Sl no. District Name Market Name Commodity Variety Grade  \\\n",
       " 0          1          Agra     Achnera    Potato    Desi   FAQ   \n",
       " 1          2          Agra     Achnera    Potato    Desi   FAQ   \n",
       " 2          3          Agra     Achnera    Potato    Desi   FAQ   \n",
       " 3          4          Agra     Achnera    Potato    Desi   FAQ   \n",
       " 4          5          Agra     Achnera    Potato    Desi   FAQ   \n",
       " ...      ...           ...         ...       ...     ...   ...   \n",
       " 1822    1823          Agra    Samsabad    Potato   Local   FAQ   \n",
       " 1823    1824          Agra    Samsabad    Potato   Local   FAQ   \n",
       " 1824    1825          Agra    Samsabad    Potato   Local   FAQ   \n",
       " 1825    1826          Agra    Samsabad    Potato   Local   FAQ   \n",
       " 1826    1827          Agra    Samsabad    Potato   Local   FAQ   \n",
       " \n",
       "       Min Price (Rs./Quintal)  Max Price (Rs./Quintal)  \\\n",
       " 0                         900                     1000   \n",
       " 1                         800                      900   \n",
       " 2                         850                      950   \n",
       " 3                         800                      900   \n",
       " 4                         800                      900   \n",
       " ...                       ...                      ...   \n",
       " 1822                     1000                     1200   \n",
       " 1823                     1000                     1200   \n",
       " 1824                     1100                     1300   \n",
       " 1825                     1100                     1300   \n",
       " 1826                     1100                     1300   \n",
       " \n",
       "       Modal Price (Rs./Quintal)   Price Date  \n",
       " 0                           950  30 Dec 2020  \n",
       " 1                           850  29 Dec 2020  \n",
       " 2                           900  28 Dec 2020  \n",
       " 3                           850  27 Dec 2020  \n",
       " 4                           850  26 Dec 2020  \n",
       " ...                         ...          ...  \n",
       " 1822                       1100  06 Jan 2020  \n",
       " 1823                       1100  05 Jan 2020  \n",
       " 1824                       1200  04 Jan 2020  \n",
       " 1825                       1200  02 Jan 2020  \n",
       " 1826                       1200  01 Jan 2020  \n",
       " \n",
       " [1827 rows x 10 columns]]"
      ]
     },
     "execution_count": 87,
     "metadata": {},
     "output_type": "execute_result"
    }
   ],
   "source": [
    "# Load the data.\n",
    "\n",
    "data =  pd.read_html('Agmarknet_Price_Report.xls')\n",
    "data"
   ]
  },
  {
   "cell_type": "code",
   "execution_count": 88,
   "metadata": {},
   "outputs": [
    {
     "data": {
      "text/html": [
       "<div>\n",
       "<style scoped>\n",
       "    .dataframe tbody tr th:only-of-type {\n",
       "        vertical-align: middle;\n",
       "    }\n",
       "\n",
       "    .dataframe tbody tr th {\n",
       "        vertical-align: top;\n",
       "    }\n",
       "\n",
       "    .dataframe thead th {\n",
       "        text-align: right;\n",
       "    }\n",
       "</style>\n",
       "<table border=\"1\" class=\"dataframe\">\n",
       "  <thead>\n",
       "    <tr style=\"text-align: right;\">\n",
       "      <th></th>\n",
       "      <th>Sl no.</th>\n",
       "      <th>District Name</th>\n",
       "      <th>Market Name</th>\n",
       "      <th>Commodity</th>\n",
       "      <th>Variety</th>\n",
       "      <th>Grade</th>\n",
       "      <th>Min Price (Rs./Quintal)</th>\n",
       "      <th>Max Price (Rs./Quintal)</th>\n",
       "      <th>Modal Price (Rs./Quintal)</th>\n",
       "      <th>Price Date</th>\n",
       "    </tr>\n",
       "  </thead>\n",
       "  <tbody>\n",
       "    <tr>\n",
       "      <th>0</th>\n",
       "      <td>1</td>\n",
       "      <td>Agra</td>\n",
       "      <td>Achnera</td>\n",
       "      <td>Potato</td>\n",
       "      <td>Desi</td>\n",
       "      <td>FAQ</td>\n",
       "      <td>900</td>\n",
       "      <td>1000</td>\n",
       "      <td>950</td>\n",
       "      <td>30 Dec 2020</td>\n",
       "    </tr>\n",
       "    <tr>\n",
       "      <th>1</th>\n",
       "      <td>2</td>\n",
       "      <td>Agra</td>\n",
       "      <td>Achnera</td>\n",
       "      <td>Potato</td>\n",
       "      <td>Desi</td>\n",
       "      <td>FAQ</td>\n",
       "      <td>800</td>\n",
       "      <td>900</td>\n",
       "      <td>850</td>\n",
       "      <td>29 Dec 2020</td>\n",
       "    </tr>\n",
       "    <tr>\n",
       "      <th>2</th>\n",
       "      <td>3</td>\n",
       "      <td>Agra</td>\n",
       "      <td>Achnera</td>\n",
       "      <td>Potato</td>\n",
       "      <td>Desi</td>\n",
       "      <td>FAQ</td>\n",
       "      <td>850</td>\n",
       "      <td>950</td>\n",
       "      <td>900</td>\n",
       "      <td>28 Dec 2020</td>\n",
       "    </tr>\n",
       "    <tr>\n",
       "      <th>3</th>\n",
       "      <td>4</td>\n",
       "      <td>Agra</td>\n",
       "      <td>Achnera</td>\n",
       "      <td>Potato</td>\n",
       "      <td>Desi</td>\n",
       "      <td>FAQ</td>\n",
       "      <td>800</td>\n",
       "      <td>900</td>\n",
       "      <td>850</td>\n",
       "      <td>27 Dec 2020</td>\n",
       "    </tr>\n",
       "    <tr>\n",
       "      <th>4</th>\n",
       "      <td>5</td>\n",
       "      <td>Agra</td>\n",
       "      <td>Achnera</td>\n",
       "      <td>Potato</td>\n",
       "      <td>Desi</td>\n",
       "      <td>FAQ</td>\n",
       "      <td>800</td>\n",
       "      <td>900</td>\n",
       "      <td>850</td>\n",
       "      <td>26 Dec 2020</td>\n",
       "    </tr>\n",
       "    <tr>\n",
       "      <th>...</th>\n",
       "      <td>...</td>\n",
       "      <td>...</td>\n",
       "      <td>...</td>\n",
       "      <td>...</td>\n",
       "      <td>...</td>\n",
       "      <td>...</td>\n",
       "      <td>...</td>\n",
       "      <td>...</td>\n",
       "      <td>...</td>\n",
       "      <td>...</td>\n",
       "    </tr>\n",
       "    <tr>\n",
       "      <th>1822</th>\n",
       "      <td>1823</td>\n",
       "      <td>Agra</td>\n",
       "      <td>Samsabad</td>\n",
       "      <td>Potato</td>\n",
       "      <td>Local</td>\n",
       "      <td>FAQ</td>\n",
       "      <td>1000</td>\n",
       "      <td>1200</td>\n",
       "      <td>1100</td>\n",
       "      <td>06 Jan 2020</td>\n",
       "    </tr>\n",
       "    <tr>\n",
       "      <th>1823</th>\n",
       "      <td>1824</td>\n",
       "      <td>Agra</td>\n",
       "      <td>Samsabad</td>\n",
       "      <td>Potato</td>\n",
       "      <td>Local</td>\n",
       "      <td>FAQ</td>\n",
       "      <td>1000</td>\n",
       "      <td>1200</td>\n",
       "      <td>1100</td>\n",
       "      <td>05 Jan 2020</td>\n",
       "    </tr>\n",
       "    <tr>\n",
       "      <th>1824</th>\n",
       "      <td>1825</td>\n",
       "      <td>Agra</td>\n",
       "      <td>Samsabad</td>\n",
       "      <td>Potato</td>\n",
       "      <td>Local</td>\n",
       "      <td>FAQ</td>\n",
       "      <td>1100</td>\n",
       "      <td>1300</td>\n",
       "      <td>1200</td>\n",
       "      <td>04 Jan 2020</td>\n",
       "    </tr>\n",
       "    <tr>\n",
       "      <th>1825</th>\n",
       "      <td>1826</td>\n",
       "      <td>Agra</td>\n",
       "      <td>Samsabad</td>\n",
       "      <td>Potato</td>\n",
       "      <td>Local</td>\n",
       "      <td>FAQ</td>\n",
       "      <td>1100</td>\n",
       "      <td>1300</td>\n",
       "      <td>1200</td>\n",
       "      <td>02 Jan 2020</td>\n",
       "    </tr>\n",
       "    <tr>\n",
       "      <th>1826</th>\n",
       "      <td>1827</td>\n",
       "      <td>Agra</td>\n",
       "      <td>Samsabad</td>\n",
       "      <td>Potato</td>\n",
       "      <td>Local</td>\n",
       "      <td>FAQ</td>\n",
       "      <td>1100</td>\n",
       "      <td>1300</td>\n",
       "      <td>1200</td>\n",
       "      <td>01 Jan 2020</td>\n",
       "    </tr>\n",
       "  </tbody>\n",
       "</table>\n",
       "<p>1827 rows × 10 columns</p>\n",
       "</div>"
      ],
      "text/plain": [
       "      Sl no. District Name Market Name Commodity Variety Grade  \\\n",
       "0          1          Agra     Achnera    Potato    Desi   FAQ   \n",
       "1          2          Agra     Achnera    Potato    Desi   FAQ   \n",
       "2          3          Agra     Achnera    Potato    Desi   FAQ   \n",
       "3          4          Agra     Achnera    Potato    Desi   FAQ   \n",
       "4          5          Agra     Achnera    Potato    Desi   FAQ   \n",
       "...      ...           ...         ...       ...     ...   ...   \n",
       "1822    1823          Agra    Samsabad    Potato   Local   FAQ   \n",
       "1823    1824          Agra    Samsabad    Potato   Local   FAQ   \n",
       "1824    1825          Agra    Samsabad    Potato   Local   FAQ   \n",
       "1825    1826          Agra    Samsabad    Potato   Local   FAQ   \n",
       "1826    1827          Agra    Samsabad    Potato   Local   FAQ   \n",
       "\n",
       "      Min Price (Rs./Quintal)  Max Price (Rs./Quintal)  \\\n",
       "0                         900                     1000   \n",
       "1                         800                      900   \n",
       "2                         850                      950   \n",
       "3                         800                      900   \n",
       "4                         800                      900   \n",
       "...                       ...                      ...   \n",
       "1822                     1000                     1200   \n",
       "1823                     1000                     1200   \n",
       "1824                     1100                     1300   \n",
       "1825                     1100                     1300   \n",
       "1826                     1100                     1300   \n",
       "\n",
       "      Modal Price (Rs./Quintal)   Price Date  \n",
       "0                           950  30 Dec 2020  \n",
       "1                           850  29 Dec 2020  \n",
       "2                           900  28 Dec 2020  \n",
       "3                           850  27 Dec 2020  \n",
       "4                           850  26 Dec 2020  \n",
       "...                         ...          ...  \n",
       "1822                       1100  06 Jan 2020  \n",
       "1823                       1100  05 Jan 2020  \n",
       "1824                       1200  04 Jan 2020  \n",
       "1825                       1200  02 Jan 2020  \n",
       "1826                       1200  01 Jan 2020  \n",
       "\n",
       "[1827 rows x 10 columns]"
      ]
     },
     "execution_count": 88,
     "metadata": {},
     "output_type": "execute_result"
    }
   ],
   "source": [
    "# Convert data to dataframe.\n",
    "\n",
    "price = data[0]\n",
    "price"
   ]
  },
  {
   "cell_type": "code",
   "execution_count": 89,
   "metadata": {},
   "outputs": [
    {
     "data": {
      "text/plain": [
       "Sl no.                       0\n",
       "District Name                0\n",
       "Market Name                  0\n",
       "Commodity                    0\n",
       "Variety                      0\n",
       "Grade                        0\n",
       "Min Price (Rs./Quintal)      0\n",
       "Max Price (Rs./Quintal)      0\n",
       "Modal Price (Rs./Quintal)    0\n",
       "Price Date                   0\n",
       "dtype: int64"
      ]
     },
     "execution_count": 89,
     "metadata": {},
     "output_type": "execute_result"
    }
   ],
   "source": [
    "# Check each column for the presence of missing values.\n",
    "\n",
    "price.isnull().sum()\n",
    "\n",
    "# No missing values."
   ]
  },
  {
   "cell_type": "code",
   "execution_count": 90,
   "metadata": {},
   "outputs": [
    {
     "data": {
      "text/plain": [
       "Sl no.                        int64\n",
       "District Name                object\n",
       "Market Name                  object\n",
       "Commodity                    object\n",
       "Variety                      object\n",
       "Grade                        object\n",
       "Min Price (Rs./Quintal)       int64\n",
       "Max Price (Rs./Quintal)       int64\n",
       "Modal Price (Rs./Quintal)     int64\n",
       "Price Date                   object\n",
       "dtype: object"
      ]
     },
     "execution_count": 90,
     "metadata": {},
     "output_type": "execute_result"
    }
   ],
   "source": [
    "# Understand data types of all columns.\n",
    "\n",
    "price.dtypes"
   ]
  },
  {
   "cell_type": "code",
   "execution_count": 91,
   "metadata": {},
   "outputs": [
    {
     "data": {
      "text/plain": [
       "{'whiskers': [<matplotlib.lines.Line2D at 0x7f3ef92a2a90>,\n",
       "  <matplotlib.lines.Line2D at 0x7f3ef92a2ed0>],\n",
       " 'caps': [<matplotlib.lines.Line2D at 0x7f3ef9288350>,\n",
       "  <matplotlib.lines.Line2D at 0x7f3ef9288790>],\n",
       " 'boxes': [<matplotlib.lines.Line2D at 0x7f3ef92a2690>],\n",
       " 'medians': [<matplotlib.lines.Line2D at 0x7f3ef9288c10>],\n",
       " 'fliers': [<matplotlib.lines.Line2D at 0x7f3ef92b3090>],\n",
       " 'means': []}"
      ]
     },
     "execution_count": 91,
     "metadata": {},
     "output_type": "execute_result"
    },
    {
     "data": {
      "image/png": "[encoded data removed]",
      "text/plain": [
       "<Figure size 432x288 with 1 Axes>"
      ]
     },
     "metadata": {
      "needs_background": "light"
     },
     "output_type": "display_data"
    }
   ],
   "source": [
    "# Check if there are outliers in 'Min Price (Rs./Quintal)'.\n",
    "\n",
    "plt.boxplot(price['Min Price (Rs./Quintal)'])\n",
    "\n",
    "# There are outliers."
   ]
  },
  {
   "cell_type": "code",
   "execution_count": 92,
   "metadata": {},
   "outputs": [
    {
     "data": {
      "text/plain": [
       "{'whiskers': [<matplotlib.lines.Line2D at 0x7f3ef9218710>,\n",
       "  <matplotlib.lines.Line2D at 0x7f3ef92181d0>],\n",
       " 'caps': [<matplotlib.lines.Line2D at 0x7f3ef91ffe50>,\n",
       "  <matplotlib.lines.Line2D at 0x7f3ef91ff910>],\n",
       " 'boxes': [<matplotlib.lines.Line2D at 0x7f3ef9218d50>],\n",
       " 'medians': [<matplotlib.lines.Line2D at 0x7f3ef91ff8d0>],\n",
       " 'fliers': [<matplotlib.lines.Line2D at 0x7f3ef91ff350>],\n",
       " 'means': []}"
      ]
     },
     "execution_count": 92,
     "metadata": {},
     "output_type": "execute_result"
    },
    {
     "data": {
      "image/png": "[encoded data removed]",
      "text/plain": [
       "<Figure size 432x288 with 1 Axes>"
      ]
     },
     "metadata": {
      "needs_background": "light"
     },
     "output_type": "display_data"
    }
   ],
   "source": [
    "# Check if there are outliers in 'Max Price (Rs./Quintal)'.\n",
    "\n",
    "plt.boxplot(price['Max Price (Rs./Quintal)'])\n",
    "\n",
    "# There are outliers."
   ]
  },
  {
   "cell_type": "code",
   "execution_count": 93,
   "metadata": {},
   "outputs": [
    {
     "data": {
      "text/plain": [
       "{'whiskers': [<matplotlib.lines.Line2D at 0x7f3ef993ba90>,\n",
       "  <matplotlib.lines.Line2D at 0x7f3ef993b610>],\n",
       " 'caps': [<matplotlib.lines.Line2D at 0x7f3ef993b150>,\n",
       "  <matplotlib.lines.Line2D at 0x7f3ef995ca50>],\n",
       " 'boxes': [<matplotlib.lines.Line2D at 0x7f3ef993bc10>],\n",
       " 'medians': [<matplotlib.lines.Line2D at 0x7f3ef995c8d0>],\n",
       " 'fliers': [<matplotlib.lines.Line2D at 0x7f3ef995c450>],\n",
       " 'means': []}"
      ]
     },
     "execution_count": 93,
     "metadata": {},
     "output_type": "execute_result"
    },
    {
     "data": {
      "image/png": "[encoded data removed]",
      "text/plain": [
       "<Figure size 432x288 with 1 Axes>"
      ]
     },
     "metadata": {
      "needs_background": "light"
     },
     "output_type": "display_data"
    }
   ],
   "source": [
    "# Check if there are outliers in 'Modal Price (Rs./Quintal)'.\n",
    "\n",
    "plt.boxplot(price['Modal Price (Rs./Quintal)'])\n",
    "\n",
    "# There are outliers."
   ]
  },
  {
   "cell_type": "code",
   "execution_count": 94,
   "metadata": {},
   "outputs": [
    {
     "name": "stdout",
     "output_type": "stream",
     "text": [
      "2725.0\n"
     ]
    }
   ],
   "source": [
    "## Outlier treatment for 'Min Price (Rs./Quintal)'.\n",
    "\n",
    "# Calculate quantiles and Inter quartile range (IQR) and cap outliers with value of upper cap.\n",
    "\n",
    "Q1 = price['Min Price (Rs./Quintal)'].quantile(0.25)\n",
    "Q3 = price['Min Price (Rs./Quintal)'].quantile(0.75)\n",
    "IQR = Q3 - Q1 \n",
    "Lower_cap  = Q1-1.5*IQR\n",
    "Upper_cap = Q3+1.5*IQR\n",
    "print(Upper_cap)"
   ]
  },
  {
   "cell_type": "code",
   "execution_count": 95,
   "metadata": {},
   "outputs": [],
   "source": [
    "# Cap outliers with value of upper cap.\n",
    "\n",
    "price.loc[price['Min Price (Rs./Quintal)'] >= 2725.0, 'Min Price (Rs./Quintal)'] = 2725.0"
   ]
  },
  {
   "cell_type": "code",
   "execution_count": 96,
   "metadata": {},
   "outputs": [
    {
     "name": "stdout",
     "output_type": "stream",
     "text": [
      "2725.0\n",
      "285.0\n"
     ]
    }
   ],
   "source": [
    "## Outlier treatment for 'Max Price (Rs./Quintal)'.\n",
    "\n",
    "Q1 = price['Max Price (Rs./Quintal)'].quantile(0.25)\n",
    "Q3 = price['Max Price (Rs./Quintal)'].quantile(0.75)\n",
    "IQR = Q3 - Q1 \n",
    "Lower_cap  = Q1-1.5*IQR\n",
    "Upper_cap = Q3+1.5*IQR\n",
    "print(Upper_cap)\n",
    "print(Lower_cap)"
   ]
  },
  {
   "cell_type": "code",
   "execution_count": 97,
   "metadata": {},
   "outputs": [],
   "source": [
    "# Cap outliers with value of upper cap and lower cap.\n",
    "\n",
    "price.loc[price['Max Price (Rs./Quintal)'] >= 2725.0, 'Max Price (Rs./Quintal)'] = 2725.0\n",
    "\n",
    "price.loc[price['Max Price (Rs./Quintal)'] <= 285.0, 'Max Price (Rs./Quintal)'] = 285.0"
   ]
  },
  {
   "cell_type": "code",
   "execution_count": 98,
   "metadata": {},
   "outputs": [
    {
     "name": "stdout",
     "output_type": "stream",
     "text": [
      "2777.5\n"
     ]
    }
   ],
   "source": [
    "## Outlier treatment for 'Modal Price (Rs./Quintal)'.\n",
    "\n",
    "Q1 = price['Modal Price (Rs./Quintal)'].quantile(0.25)\n",
    "Q3 = price['Modal Price (Rs./Quintal)'].quantile(0.75)\n",
    "IQR = Q3 - Q1 \n",
    "Lower_cap  = Q1-1.5*IQR\n",
    "Upper_cap = Q3+1.5*IQR\n",
    "print(Upper_cap)"
   ]
  },
  {
   "cell_type": "code",
   "execution_count": 99,
   "metadata": {},
   "outputs": [],
   "source": [
    "# Cap outliers with value of upper cap.\n",
    "\n",
    "price.loc[price['Modal Price (Rs./Quintal)'] >= 2777.5, 'Modal Price (Rs./Quintal)'] = 2777.5\n"
   ]
  },
  {
   "cell_type": "code",
   "execution_count": 100,
   "metadata": {},
   "outputs": [
    {
     "data": {
      "text/plain": [
       "{'whiskers': [<matplotlib.lines.Line2D at 0x7f3ef9944190>,\n",
       "  <matplotlib.lines.Line2D at 0x7f3ef96a7f50>],\n",
       " 'caps': [<matplotlib.lines.Line2D at 0x7f3ef96a7ad0>,\n",
       "  <matplotlib.lines.Line2D at 0x7f3ef96a7510>],\n",
       " 'boxes': [<matplotlib.lines.Line2D at 0x7f3ef9944750>],\n",
       " 'medians': [<matplotlib.lines.Line2D at 0x7f3ef96a7050>],\n",
       " 'fliers': [<matplotlib.lines.Line2D at 0x7f3ef96b3f50>],\n",
       " 'means': []}"
      ]
     },
     "execution_count": 100,
     "metadata": {},
     "output_type": "execute_result"
    },
    {
     "data": {
      "image/png": "[encoded data removed]",
      "text/plain": [
       "<Figure size 432x288 with 1 Axes>"
      ]
     },
     "metadata": {
      "needs_background": "light"
     },
     "output_type": "display_data"
    }
   ],
   "source": [
    "## Again check for outliers after outlier treatment in column \"Min Price (Rs./Quintal)\"\n",
    "\n",
    "plt.boxplot(price['Min Price (Rs./Quintal)'])\n",
    "\n",
    "# No outliers."
   ]
  },
  {
   "cell_type": "code",
   "execution_count": 101,
   "metadata": {},
   "outputs": [
    {
     "data": {
      "text/plain": [
       "{'whiskers': [<matplotlib.lines.Line2D at 0x7f3ef96a6bd0>,\n",
       "  <matplotlib.lines.Line2D at 0x7f3ef96a6fd0>],\n",
       " 'caps': [<matplotlib.lines.Line2D at 0x7f3ef99d7a90>,\n",
       "  <matplotlib.lines.Line2D at 0x7f3ef99d7950>],\n",
       " 'boxes': [<matplotlib.lines.Line2D at 0x7f3ef96a6950>],\n",
       " 'medians': [<matplotlib.lines.Line2D at 0x7f3ef99d7490>],\n",
       " 'fliers': [<matplotlib.lines.Line2D at 0x7f3ef991a5d0>],\n",
       " 'means': []}"
      ]
     },
     "execution_count": 101,
     "metadata": {},
     "output_type": "execute_result"
    },
    {
     "data": {
      "image/png": "[encoded data removed]",
      "text/plain": [
       "<Figure size 432x288 with 1 Axes>"
      ]
     },
     "metadata": {
      "needs_background": "light"
     },
     "output_type": "display_data"
    }
   ],
   "source": [
    "## Again check for outliers after outlier treatment in column \"Max Price (Rs./Quintal)\"\n",
    "\n",
    "plt.boxplot(price['Max Price (Rs./Quintal)'])\n",
    "\n",
    "# No outliers."
   ]
  },
  {
   "cell_type": "code",
   "execution_count": 102,
   "metadata": {},
   "outputs": [
    {
     "data": {
      "text/plain": [
       "{'whiskers': [<matplotlib.lines.Line2D at 0x7f3ef9971150>,\n",
       "  <matplotlib.lines.Line2D at 0x7f3ef993cfd0>],\n",
       " 'caps': [<matplotlib.lines.Line2D at 0x7f3ef993c490>,\n",
       "  <matplotlib.lines.Line2D at 0x7f3ef993ccd0>],\n",
       " 'boxes': [<matplotlib.lines.Line2D at 0x7f3ef9971a90>],\n",
       " 'medians': [<matplotlib.lines.Line2D at 0x7f3ef993c710>],\n",
       " 'fliers': [<matplotlib.lines.Line2D at 0x7f3ef9932190>],\n",
       " 'means': []}"
      ]
     },
     "execution_count": 102,
     "metadata": {},
     "output_type": "execute_result"
    },
    {
     "data": {
      "image/png": "[encoded data removed]",
      "text/plain": [
       "<Figure size 432x288 with 1 Axes>"
      ]
     },
     "metadata": {
      "needs_background": "light"
     },
     "output_type": "display_data"
    }
   ],
   "source": [
    "## Again check for outliers after outlier treatment in column \"Modal Price (Rs./Quintal)\"\n",
    "\n",
    "plt.boxplot(price['Modal Price (Rs./Quintal)'])\n",
    "\n",
    "# No outliers."
   ]
  },
  {
   "cell_type": "code",
   "execution_count": 103,
   "metadata": {},
   "outputs": [],
   "source": [
    "# Convert Price Date to datetime object.\n",
    "\n",
    "price['Price Date'] = pd.to_datetime(price['Price Date'])"
   ]
  },
  {
   "cell_type": "code",
   "execution_count": 104,
   "metadata": {},
   "outputs": [
    {
     "data": {
      "text/html": [
       "<div>\n",
       "<style scoped>\n",
       "    .dataframe tbody tr th:only-of-type {\n",
       "        vertical-align: middle;\n",
       "    }\n",
       "\n",
       "    .dataframe tbody tr th {\n",
       "        vertical-align: top;\n",
       "    }\n",
       "\n",
       "    .dataframe thead th {\n",
       "        text-align: right;\n",
       "    }\n",
       "</style>\n",
       "<table border=\"1\" class=\"dataframe\">\n",
       "  <thead>\n",
       "    <tr style=\"text-align: right;\">\n",
       "      <th></th>\n",
       "      <th>Sl no.</th>\n",
       "      <th>District Name</th>\n",
       "      <th>Market Name</th>\n",
       "      <th>Commodity</th>\n",
       "      <th>Variety</th>\n",
       "      <th>Grade</th>\n",
       "      <th>Min Price (Rs./Quintal)</th>\n",
       "      <th>Max Price (Rs./Quintal)</th>\n",
       "      <th>Modal Price (Rs./Quintal)</th>\n",
       "      <th>Price Date</th>\n",
       "    </tr>\n",
       "  </thead>\n",
       "  <tbody>\n",
       "    <tr>\n",
       "      <th>1826</th>\n",
       "      <td>1827</td>\n",
       "      <td>Agra</td>\n",
       "      <td>Samsabad</td>\n",
       "      <td>Potato</td>\n",
       "      <td>Local</td>\n",
       "      <td>FAQ</td>\n",
       "      <td>1100</td>\n",
       "      <td>1300</td>\n",
       "      <td>1200.0</td>\n",
       "      <td>2020-01-01</td>\n",
       "    </tr>\n",
       "    <tr>\n",
       "      <th>305</th>\n",
       "      <td>306</td>\n",
       "      <td>Agra</td>\n",
       "      <td>Achnera</td>\n",
       "      <td>Potato</td>\n",
       "      <td>Desi</td>\n",
       "      <td>FAQ</td>\n",
       "      <td>1300</td>\n",
       "      <td>1400</td>\n",
       "      <td>1350.0</td>\n",
       "      <td>2020-01-01</td>\n",
       "    </tr>\n",
       "    <tr>\n",
       "      <th>1325</th>\n",
       "      <td>1326</td>\n",
       "      <td>Agra</td>\n",
       "      <td>Jagnair</td>\n",
       "      <td>Potato</td>\n",
       "      <td>Desi</td>\n",
       "      <td>FAQ</td>\n",
       "      <td>1250</td>\n",
       "      <td>1350</td>\n",
       "      <td>1300.0</td>\n",
       "      <td>2020-01-01</td>\n",
       "    </tr>\n",
       "    <tr>\n",
       "      <th>1658</th>\n",
       "      <td>1659</td>\n",
       "      <td>Agra</td>\n",
       "      <td>Khairagarh</td>\n",
       "      <td>Potato</td>\n",
       "      <td>Desi</td>\n",
       "      <td>FAQ</td>\n",
       "      <td>1200</td>\n",
       "      <td>1300</td>\n",
       "      <td>1250.0</td>\n",
       "      <td>2020-01-01</td>\n",
       "    </tr>\n",
       "    <tr>\n",
       "      <th>1138</th>\n",
       "      <td>1139</td>\n",
       "      <td>Agra</td>\n",
       "      <td>Fatehpur Sikri</td>\n",
       "      <td>Potato</td>\n",
       "      <td>Local</td>\n",
       "      <td>FAQ</td>\n",
       "      <td>1400</td>\n",
       "      <td>1520</td>\n",
       "      <td>1455.0</td>\n",
       "      <td>2020-01-01</td>\n",
       "    </tr>\n",
       "    <tr>\n",
       "      <th>...</th>\n",
       "      <td>...</td>\n",
       "      <td>...</td>\n",
       "      <td>...</td>\n",
       "      <td>...</td>\n",
       "      <td>...</td>\n",
       "      <td>...</td>\n",
       "      <td>...</td>\n",
       "      <td>...</td>\n",
       "      <td>...</td>\n",
       "      <td>...</td>\n",
       "    </tr>\n",
       "    <tr>\n",
       "      <th>1472</th>\n",
       "      <td>1473</td>\n",
       "      <td>Agra</td>\n",
       "      <td>Khairagarh</td>\n",
       "      <td>Potato</td>\n",
       "      <td>Desi</td>\n",
       "      <td>FAQ</td>\n",
       "      <td>1100</td>\n",
       "      <td>1200</td>\n",
       "      <td>1150.0</td>\n",
       "      <td>2020-12-31</td>\n",
       "    </tr>\n",
       "    <tr>\n",
       "      <th>591</th>\n",
       "      <td>592</td>\n",
       "      <td>Agra</td>\n",
       "      <td>Fatehabad</td>\n",
       "      <td>Potato</td>\n",
       "      <td>Desi</td>\n",
       "      <td>FAQ</td>\n",
       "      <td>700</td>\n",
       "      <td>800</td>\n",
       "      <td>750.0</td>\n",
       "      <td>2020-12-31</td>\n",
       "    </tr>\n",
       "    <tr>\n",
       "      <th>306</th>\n",
       "      <td>307</td>\n",
       "      <td>Agra</td>\n",
       "      <td>Agra</td>\n",
       "      <td>Potato</td>\n",
       "      <td>Desi</td>\n",
       "      <td>FAQ</td>\n",
       "      <td>800</td>\n",
       "      <td>1100</td>\n",
       "      <td>960.0</td>\n",
       "      <td>2020-12-31</td>\n",
       "    </tr>\n",
       "    <tr>\n",
       "      <th>849</th>\n",
       "      <td>850</td>\n",
       "      <td>Agra</td>\n",
       "      <td>Fatehpur Sikri</td>\n",
       "      <td>Potato</td>\n",
       "      <td>Local</td>\n",
       "      <td>FAQ</td>\n",
       "      <td>900</td>\n",
       "      <td>1100</td>\n",
       "      <td>1015.0</td>\n",
       "      <td>2020-12-31</td>\n",
       "    </tr>\n",
       "    <tr>\n",
       "      <th>1139</th>\n",
       "      <td>1140</td>\n",
       "      <td>Agra</td>\n",
       "      <td>Jagnair</td>\n",
       "      <td>Potato</td>\n",
       "      <td>Desi</td>\n",
       "      <td>FAQ</td>\n",
       "      <td>750</td>\n",
       "      <td>850</td>\n",
       "      <td>800.0</td>\n",
       "      <td>2020-12-31</td>\n",
       "    </tr>\n",
       "  </tbody>\n",
       "</table>\n",
       "<p>1827 rows × 10 columns</p>\n",
       "</div>"
      ],
      "text/plain": [
       "      Sl no. District Name     Market Name Commodity Variety Grade  \\\n",
       "1826    1827          Agra        Samsabad    Potato   Local   FAQ   \n",
       "305      306          Agra         Achnera    Potato    Desi   FAQ   \n",
       "1325    1326          Agra         Jagnair    Potato    Desi   FAQ   \n",
       "1658    1659          Agra      Khairagarh    Potato    Desi   FAQ   \n",
       "1138    1139          Agra  Fatehpur Sikri    Potato   Local   FAQ   \n",
       "...      ...           ...             ...       ...     ...   ...   \n",
       "1472    1473          Agra      Khairagarh    Potato    Desi   FAQ   \n",
       "591      592          Agra       Fatehabad    Potato    Desi   FAQ   \n",
       "306      307          Agra            Agra    Potato    Desi   FAQ   \n",
       "849      850          Agra  Fatehpur Sikri    Potato   Local   FAQ   \n",
       "1139    1140          Agra         Jagnair    Potato    Desi   FAQ   \n",
       "\n",
       "      Min Price (Rs./Quintal)  Max Price (Rs./Quintal)  \\\n",
       "1826                     1100                     1300   \n",
       "305                      1300                     1400   \n",
       "1325                     1250                     1350   \n",
       "1658                     1200                     1300   \n",
       "1138                     1400                     1520   \n",
       "...                       ...                      ...   \n",
       "1472                     1100                     1200   \n",
       "591                       700                      800   \n",
       "306                       800                     1100   \n",
       "849                       900                     1100   \n",
       "1139                      750                      850   \n",
       "\n",
       "      Modal Price (Rs./Quintal) Price Date  \n",
       "1826                     1200.0 2020-01-01  \n",
       "305                      1350.0 2020-01-01  \n",
       "1325                     1300.0 2020-01-01  \n",
       "1658                     1250.0 2020-01-01  \n",
       "1138                     1455.0 2020-01-01  \n",
       "...                         ...        ...  \n",
       "1472                     1150.0 2020-12-31  \n",
       "591                       750.0 2020-12-31  \n",
       "306                       960.0 2020-12-31  \n",
       "849                      1015.0 2020-12-31  \n",
       "1139                      800.0 2020-12-31  \n",
       "\n",
       "[1827 rows x 10 columns]"
      ]
     },
     "execution_count": 104,
     "metadata": {},
     "output_type": "execute_result"
    }
   ],
   "source": [
    "# Q1. Display records between Jan 2020 to Dec 2020.\n",
    "\n",
    "# Arrange 'Price Date' in ascending order to get records between Jan 2020 to Dec 2020.\n",
    "\n",
    "price_by_date = price.sort_values(by = \"Price Date\")\n",
    "price_by_date"
   ]
  },
  {
   "cell_type": "code",
   "execution_count": 105,
   "metadata": {},
   "outputs": [
    {
     "data": {
      "text/html": [
       "<div>\n",
       "<style scoped>\n",
       "    .dataframe tbody tr th:only-of-type {\n",
       "        vertical-align: middle;\n",
       "    }\n",
       "\n",
       "    .dataframe tbody tr th {\n",
       "        vertical-align: top;\n",
       "    }\n",
       "\n",
       "    .dataframe thead th {\n",
       "        text-align: right;\n",
       "    }\n",
       "</style>\n",
       "<table border=\"1\" class=\"dataframe\">\n",
       "  <thead>\n",
       "    <tr style=\"text-align: right;\">\n",
       "      <th></th>\n",
       "      <th>Market Name</th>\n",
       "      <th>Modal Price (Rs./Quintal)</th>\n",
       "    </tr>\n",
       "  </thead>\n",
       "  <tbody>\n",
       "    <tr>\n",
       "      <th>0</th>\n",
       "      <td>Achnera</td>\n",
       "      <td>515942.5</td>\n",
       "    </tr>\n",
       "    <tr>\n",
       "      <th>1</th>\n",
       "      <td>Agra</td>\n",
       "      <td>486600.0</td>\n",
       "    </tr>\n",
       "    <tr>\n",
       "      <th>2</th>\n",
       "      <td>Fatehabad</td>\n",
       "      <td>357430.0</td>\n",
       "    </tr>\n",
       "    <tr>\n",
       "      <th>3</th>\n",
       "      <td>Fatehpur Sikri</td>\n",
       "      <td>501370.0</td>\n",
       "    </tr>\n",
       "    <tr>\n",
       "      <th>4</th>\n",
       "      <td>Jagnair</td>\n",
       "      <td>244967.5</td>\n",
       "    </tr>\n",
       "    <tr>\n",
       "      <th>5</th>\n",
       "      <td>Jarar</td>\n",
       "      <td>156610.0</td>\n",
       "    </tr>\n",
       "    <tr>\n",
       "      <th>6</th>\n",
       "      <td>Khairagarh</td>\n",
       "      <td>230065.0</td>\n",
       "    </tr>\n",
       "    <tr>\n",
       "      <th>7</th>\n",
       "      <td>Samsabad</td>\n",
       "      <td>191775.0</td>\n",
       "    </tr>\n",
       "  </tbody>\n",
       "</table>\n",
       "</div>"
      ],
      "text/plain": [
       "      Market Name  Modal Price (Rs./Quintal)\n",
       "0         Achnera                   515942.5\n",
       "1            Agra                   486600.0\n",
       "2       Fatehabad                   357430.0\n",
       "3  Fatehpur Sikri                   501370.0\n",
       "4         Jagnair                   244967.5\n",
       "5           Jarar                   156610.0\n",
       "6      Khairagarh                   230065.0\n",
       "7        Samsabad                   191775.0"
      ]
     },
     "execution_count": 105,
     "metadata": {},
     "output_type": "execute_result"
    }
   ],
   "source": [
    "## Q2. Identify major markets for district Agra.\n",
    "\n",
    "# To identify major markets groupby \"Market Name\" and find out sum of \"Modal price\" for every market.\n",
    "\n",
    "price_per_market = price.groupby(['Market Name'])['Modal Price (Rs./Quintal)'].sum().reset_index()\n",
    "price_per_market"
   ]
  },
  {
   "cell_type": "code",
   "execution_count": 106,
   "metadata": {},
   "outputs": [
    {
     "data": {
      "text/plain": [
       "2684760.0"
      ]
     },
     "execution_count": 106,
     "metadata": {},
     "output_type": "execute_result"
    }
   ],
   "source": [
    "# To find out percentage price for every market, calculate total_price.\n",
    "\n",
    "total_price = sum(price['Modal Price (Rs./Quintal)'])\n",
    "total_price"
   ]
  },
  {
   "cell_type": "code",
   "execution_count": 107,
   "metadata": {},
   "outputs": [],
   "source": [
    "# Store price percentage in list \"percentage\".\n",
    "\n",
    "percentage = []\n",
    "\n",
    "pct = (price_per_market['Modal Price (Rs./Quintal)']/ total_price) * 100\n",
    "\n",
    "percentage.append(round(pct, 2))"
   ]
  },
  {
   "cell_type": "code",
   "execution_count": 108,
   "metadata": {},
   "outputs": [
    {
     "data": {
      "text/html": [
       "<div>\n",
       "<style scoped>\n",
       "    .dataframe tbody tr th:only-of-type {\n",
       "        vertical-align: middle;\n",
       "    }\n",
       "\n",
       "    .dataframe tbody tr th {\n",
       "        vertical-align: top;\n",
       "    }\n",
       "\n",
       "    .dataframe thead th {\n",
       "        text-align: right;\n",
       "    }\n",
       "</style>\n",
       "<table border=\"1\" class=\"dataframe\">\n",
       "  <thead>\n",
       "    <tr style=\"text-align: right;\">\n",
       "      <th></th>\n",
       "      <th>0</th>\n",
       "      <th>1</th>\n",
       "      <th>2</th>\n",
       "      <th>3</th>\n",
       "      <th>4</th>\n",
       "      <th>5</th>\n",
       "      <th>6</th>\n",
       "      <th>7</th>\n",
       "    </tr>\n",
       "  </thead>\n",
       "  <tbody>\n",
       "    <tr>\n",
       "      <th>Modal Price (Rs./Quintal)</th>\n",
       "      <td>19.22</td>\n",
       "      <td>18.12</td>\n",
       "      <td>13.31</td>\n",
       "      <td>18.67</td>\n",
       "      <td>9.12</td>\n",
       "      <td>5.83</td>\n",
       "      <td>8.57</td>\n",
       "      <td>7.14</td>\n",
       "    </tr>\n",
       "  </tbody>\n",
       "</table>\n",
       "</div>"
      ],
      "text/plain": [
       "                               0      1      2      3     4     5     6     7\n",
       "Modal Price (Rs./Quintal)  19.22  18.12  13.31  18.67  9.12  5.83  8.57  7.14"
      ]
     },
     "execution_count": 108,
     "metadata": {},
     "output_type": "execute_result"
    }
   ],
   "source": [
    "# Covert \"percentage\" to daaframe.\n",
    "\n",
    "percentage = pd.DataFrame(percentage)\n",
    "percentage"
   ]
  },
  {
   "cell_type": "code",
   "execution_count": 109,
   "metadata": {},
   "outputs": [
    {
     "data": {
      "text/html": [
       "<div>\n",
       "<style scoped>\n",
       "    .dataframe tbody tr th:only-of-type {\n",
       "        vertical-align: middle;\n",
       "    }\n",
       "\n",
       "    .dataframe tbody tr th {\n",
       "        vertical-align: top;\n",
       "    }\n",
       "\n",
       "    .dataframe thead th {\n",
       "        text-align: right;\n",
       "    }\n",
       "</style>\n",
       "<table border=\"1\" class=\"dataframe\">\n",
       "  <thead>\n",
       "    <tr style=\"text-align: right;\">\n",
       "      <th></th>\n",
       "      <th>Modal Price (Rs./Quintal)</th>\n",
       "    </tr>\n",
       "  </thead>\n",
       "  <tbody>\n",
       "    <tr>\n",
       "      <th>0</th>\n",
       "      <td>19.22</td>\n",
       "    </tr>\n",
       "    <tr>\n",
       "      <th>1</th>\n",
       "      <td>18.12</td>\n",
       "    </tr>\n",
       "    <tr>\n",
       "      <th>2</th>\n",
       "      <td>13.31</td>\n",
       "    </tr>\n",
       "    <tr>\n",
       "      <th>3</th>\n",
       "      <td>18.67</td>\n",
       "    </tr>\n",
       "    <tr>\n",
       "      <th>4</th>\n",
       "      <td>9.12</td>\n",
       "    </tr>\n",
       "    <tr>\n",
       "      <th>5</th>\n",
       "      <td>5.83</td>\n",
       "    </tr>\n",
       "    <tr>\n",
       "      <th>6</th>\n",
       "      <td>8.57</td>\n",
       "    </tr>\n",
       "    <tr>\n",
       "      <th>7</th>\n",
       "      <td>7.14</td>\n",
       "    </tr>\n",
       "  </tbody>\n",
       "</table>\n",
       "</div>"
      ],
      "text/plain": [
       "   Modal Price (Rs./Quintal)\n",
       "0                      19.22\n",
       "1                      18.12\n",
       "2                      13.31\n",
       "3                      18.67\n",
       "4                       9.12\n",
       "5                       5.83\n",
       "6                       8.57\n",
       "7                       7.14"
      ]
     },
     "execution_count": 109,
     "metadata": {},
     "output_type": "execute_result"
    }
   ],
   "source": [
    "# Apply transpose to \"percentage\" and store it as \"price_df\".\n",
    "\n",
    "price_df = percentage.transpose()\n",
    "price_df"
   ]
  },
  {
   "cell_type": "code",
   "execution_count": 110,
   "metadata": {},
   "outputs": [
    {
     "data": {
      "text/html": [
       "<div>\n",
       "<style scoped>\n",
       "    .dataframe tbody tr th:only-of-type {\n",
       "        vertical-align: middle;\n",
       "    }\n",
       "\n",
       "    .dataframe tbody tr th {\n",
       "        vertical-align: top;\n",
       "    }\n",
       "\n",
       "    .dataframe thead th {\n",
       "        text-align: right;\n",
       "    }\n",
       "</style>\n",
       "<table border=\"1\" class=\"dataframe\">\n",
       "  <thead>\n",
       "    <tr style=\"text-align: right;\">\n",
       "      <th></th>\n",
       "      <th>Percentage</th>\n",
       "    </tr>\n",
       "  </thead>\n",
       "  <tbody>\n",
       "    <tr>\n",
       "      <th>0</th>\n",
       "      <td>19.22</td>\n",
       "    </tr>\n",
       "    <tr>\n",
       "      <th>1</th>\n",
       "      <td>18.12</td>\n",
       "    </tr>\n",
       "    <tr>\n",
       "      <th>2</th>\n",
       "      <td>13.31</td>\n",
       "    </tr>\n",
       "    <tr>\n",
       "      <th>3</th>\n",
       "      <td>18.67</td>\n",
       "    </tr>\n",
       "    <tr>\n",
       "      <th>4</th>\n",
       "      <td>9.12</td>\n",
       "    </tr>\n",
       "    <tr>\n",
       "      <th>5</th>\n",
       "      <td>5.83</td>\n",
       "    </tr>\n",
       "    <tr>\n",
       "      <th>6</th>\n",
       "      <td>8.57</td>\n",
       "    </tr>\n",
       "    <tr>\n",
       "      <th>7</th>\n",
       "      <td>7.14</td>\n",
       "    </tr>\n",
       "  </tbody>\n",
       "</table>\n",
       "</div>"
      ],
      "text/plain": [
       "   Percentage\n",
       "0       19.22\n",
       "1       18.12\n",
       "2       13.31\n",
       "3       18.67\n",
       "4        9.12\n",
       "5        5.83\n",
       "6        8.57\n",
       "7        7.14"
      ]
     },
     "execution_count": 110,
     "metadata": {},
     "output_type": "execute_result"
    }
   ],
   "source": [
    "# Rename columns of \"price_df\".\n",
    "\n",
    "price_df.columns = [\"Percentage\"]\n",
    "price_df"
   ]
  },
  {
   "cell_type": "code",
   "execution_count": 111,
   "metadata": {},
   "outputs": [
    {
     "data": {
      "text/html": [
       "<div>\n",
       "<style scoped>\n",
       "    .dataframe tbody tr th:only-of-type {\n",
       "        vertical-align: middle;\n",
       "    }\n",
       "\n",
       "    .dataframe tbody tr th {\n",
       "        vertical-align: top;\n",
       "    }\n",
       "\n",
       "    .dataframe thead th {\n",
       "        text-align: right;\n",
       "    }\n",
       "</style>\n",
       "<table border=\"1\" class=\"dataframe\">\n",
       "  <thead>\n",
       "    <tr style=\"text-align: right;\">\n",
       "      <th></th>\n",
       "      <th>Market Name</th>\n",
       "      <th>Modal Price (Rs./Quintal)</th>\n",
       "      <th>Percentage</th>\n",
       "    </tr>\n",
       "  </thead>\n",
       "  <tbody>\n",
       "    <tr>\n",
       "      <th>0</th>\n",
       "      <td>Achnera</td>\n",
       "      <td>515942.5</td>\n",
       "      <td>19.22</td>\n",
       "    </tr>\n",
       "    <tr>\n",
       "      <th>1</th>\n",
       "      <td>Agra</td>\n",
       "      <td>486600.0</td>\n",
       "      <td>18.12</td>\n",
       "    </tr>\n",
       "    <tr>\n",
       "      <th>2</th>\n",
       "      <td>Fatehabad</td>\n",
       "      <td>357430.0</td>\n",
       "      <td>13.31</td>\n",
       "    </tr>\n",
       "    <tr>\n",
       "      <th>3</th>\n",
       "      <td>Fatehpur Sikri</td>\n",
       "      <td>501370.0</td>\n",
       "      <td>18.67</td>\n",
       "    </tr>\n",
       "    <tr>\n",
       "      <th>4</th>\n",
       "      <td>Jagnair</td>\n",
       "      <td>244967.5</td>\n",
       "      <td>9.12</td>\n",
       "    </tr>\n",
       "    <tr>\n",
       "      <th>5</th>\n",
       "      <td>Jarar</td>\n",
       "      <td>156610.0</td>\n",
       "      <td>5.83</td>\n",
       "    </tr>\n",
       "    <tr>\n",
       "      <th>6</th>\n",
       "      <td>Khairagarh</td>\n",
       "      <td>230065.0</td>\n",
       "      <td>8.57</td>\n",
       "    </tr>\n",
       "    <tr>\n",
       "      <th>7</th>\n",
       "      <td>Samsabad</td>\n",
       "      <td>191775.0</td>\n",
       "      <td>7.14</td>\n",
       "    </tr>\n",
       "  </tbody>\n",
       "</table>\n",
       "</div>"
      ],
      "text/plain": [
       "      Market Name  Modal Price (Rs./Quintal)  Percentage\n",
       "0         Achnera                   515942.5       19.22\n",
       "1            Agra                   486600.0       18.12\n",
       "2       Fatehabad                   357430.0       13.31\n",
       "3  Fatehpur Sikri                   501370.0       18.67\n",
       "4         Jagnair                   244967.5        9.12\n",
       "5           Jarar                   156610.0        5.83\n",
       "6      Khairagarh                   230065.0        8.57\n",
       "7        Samsabad                   191775.0        7.14"
      ]
     },
     "execution_count": 111,
     "metadata": {},
     "output_type": "execute_result"
    }
   ],
   "source": [
    "# Concat dataframes \"price_per_market\" and \"price_df\".\n",
    "\n",
    "price_per_market = pd.concat([price_per_market, price_df], axis = 1)\n",
    "price_per_market"
   ]
  },
  {
   "cell_type": "code",
   "execution_count": 112,
   "metadata": {},
   "outputs": [
    {
     "data": {
      "image/png": "[encoded data removed]",
      "text/plain": [
       "<Figure size 432x288 with 1 Axes>"
      ]
     },
     "metadata": {
      "needs_background": "light"
     },
     "output_type": "display_data"
    }
   ],
   "source": [
    "# Q2. Identify major markets for district Agra and plot price patterns for each of them.\n",
    "\n",
    "plt.title(\"Modal Price for different markets in Agra\")\n",
    "plt.xlabel(\"Modal_Price\")\n",
    "plt.ylabel(\"Markets\")\n",
    "\n",
    "plot = plt.barh(price_per_market['Market Name'], price_per_market['Modal Price (Rs./Quintal)'])\n",
    "i = 0\n",
    "for p in plot:\n",
    "    width = p.get_width()\n",
    "    height = p.get_height()\n",
    "    x, y = p.get_xy()\n",
    "      \n",
    "    plt.text(x+width*1.01,\n",
    "             y+height*1.01,\n",
    "             str(price_per_market.Percentage[i]) + '%',\n",
    "             ha = 'center',\n",
    "             weight = 'bold')\n",
    "    i += 1\n",
    "plt.show()\n",
    "\n",
    "# Major markets are Achnera, Agra and Fatehpur Sikri because price in these markets is high when compared to remaining markets."
   ]
  }
 ],
 "metadata": {
  "kernelspec": {
   "display_name": "Python 3",
   "language": "python",
   "name": "python3"
  },
  "language_info": {
   "codemirror_mode": {
    "name": "ipython",
    "version": 3
   },
   "file_extension": ".py",
   "mimetype": "text/x-python",
   "name": "python",
   "nbconvert_exporter": "python",
   "pygments_lexer": "ipython3",
   "version": "3.7.4"
  }
 },
 "nbformat": 4,
 "nbformat_minor": 4
}
